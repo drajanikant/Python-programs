{
 "cells": [
  {
   "cell_type": "code",
   "execution_count": null,
   "metadata": {},
   "outputs": [
    {
     "name": "stdout",
     "output_type": "stream",
     "text": [
      "Enter your code 503\n",
      "Enter timestamp 12:13:12\n",
      "Enter your code 503\n",
      "Enter timestamp 12:13:12\n",
      "Enter your code 503\n",
      "Enter timestamp 12:13:12\n",
      "Enter your code 503\n",
      "Enter timestamp 12:13:12\n",
      "Enter your code 503\n",
      "Enter timestamp 12:13:12\n",
      "Enter your code 503\n",
      "Enter timestamp 12:13:12\n",
      "Enter your code 503\n",
      "Enter timestamp 12:13:12\n",
      "Enter your code 503\n",
      "Enter timestamp 12:13:12\n",
      "Enter your code 503\n",
      "Enter timestamp 12:13:12\n",
      "Enter your code 503\n",
      "Enter timestamp 12:13:12\n",
      "DDoS Attacks.\n",
      "Enter your code 503\n",
      "Enter timestamp 12:13:12\n",
      "DDoS Attacks.\n",
      "Enter your code 503\n",
      "Enter timestamp 12:33:12\n"
     ]
    }
   ],
   "source": [
    "\"\"\"\n",
    "Identify DDoS Attacks by continuous 503 error\n",
    "\"\"\"\n",
    "\n",
    "from datetime import datetime\n",
    "from collections import deque\n",
    "FMT = '%H:%M:%S'\n",
    "error={}\n",
    "time={}\n",
    "\n",
    "timeq=deque([])\n",
    "\n",
    "\n",
    "def detector(code, timestamp):\n",
    "    if(len(timeq) == 9):\n",
    "        if(((datetime.strptime(timestamp, FMT) - datetime.strptime(timeq[0], FMT)).seconds//600)<1):\n",
    "            print(\"DDoS Attacks.\")\n",
    "        else:\n",
    "            timeq.append(timestamp)\n",
    "            timeq.popleft()\n",
    "    else:\n",
    "        timeq.append(timestamp)\n",
    "\n",
    "def start():\n",
    "    code = input('Enter your code ')\n",
    "    timestamp = input('Enter timestamp ')\n",
    "    detector(code, timestamp)\n",
    "    while(code and timestamp and code == '503'):\n",
    "        ip = input('Enter your code ')\n",
    "        timestamp = input('Enter timestamp ')\n",
    "        detector(code, timestamp)\n",
    "start()"
   ]
  }
 ],
 "metadata": {
  "kernelspec": {
   "display_name": "Python 3",
   "language": "python",
   "name": "python3"
  },
  "language_info": {
   "codemirror_mode": {
    "name": "ipython",
    "version": 3
   },
   "file_extension": ".py",
   "mimetype": "text/x-python",
   "name": "python",
   "nbconvert_exporter": "python",
   "pygments_lexer": "ipython3",
   "version": "3.6.1"
  }
 },
 "nbformat": 4,
 "nbformat_minor": 2
}
